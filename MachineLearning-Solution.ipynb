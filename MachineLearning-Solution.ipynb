{
 "cells": [
  {
   "cell_type": "markdown",
   "metadata": {},
   "source": [
    "# __Solución de Machine Learning con Python__"
   ]
  },
  {
   "cell_type": "markdown",
   "metadata": {},
   "source": [
    "## __Importando librerías__"
   ]
  },
  {
   "cell_type": "code",
   "execution_count": 2,
   "metadata": {},
   "outputs": [],
   "source": [
    "import pandas as pd\n",
    "from sklearn.model_selection import train_test_split\n",
    "import numpy as np\n",
    "import matplotlib.pyplot as plt"
   ]
  },
  {
   "cell_type": "markdown",
   "metadata": {},
   "source": [
    "## __Cargando DataSet__"
   ]
  },
  {
   "cell_type": "code",
   "execution_count": 3,
   "metadata": {},
   "outputs": [
    {
     "name": "stdout",
     "output_type": "stream",
     "text": [
      "  Column1  Column2  Column3 Column4 Column5 Column6 Column7  Column8 Column9  \\\n",
      "0       b    30.83    0.000       u       g       w       v     1.25       t   \n",
      "1       a    58.67    4.460       u       g       q       h     3.04       t   \n",
      "2       a    24.50    0.500       u       g       q       h     1.50       t   \n",
      "3       b    27.83    1.540       u       g       w       v     3.75       t   \n",
      "4       b    20.17    5.625       u       g       w       v     1.71       t   \n",
      "\n",
      "  Column10  Column11 Column12 Column13  Column14  Column15  Column16  \n",
      "0        t         1        f        g     202.0         0         2  \n",
      "1        t         6        f        g      43.0       560         2  \n",
      "2        f         0        f        g     280.0       824         2  \n",
      "3        t         5        t        g     100.0         3         2  \n",
      "4        f         0        f        s     120.0         0         2  \n"
     ]
    }
   ],
   "source": [
    "dataset_raw = pd.read_csv('./dataset/cc_aproval.csv')\n",
    "\n",
    "print(dataset_raw.head())"
   ]
  },
  {
   "cell_type": "markdown",
   "metadata": {},
   "source": [
    "## __Explorando data__"
   ]
  },
  {
   "cell_type": "code",
   "execution_count": 17,
   "metadata": {},
   "outputs": [
    {
     "name": "stdout",
     "output_type": "stream",
     "text": [
      "\n",
      "\n",
      "  Column1  Column2  Column3 Column4 Column5 Column6 Column7  Column8 Column9  \\\n",
      "0       b    30.83    0.000       u       g       w       v     1.25       t   \n",
      "1       a    58.67    4.460       u       g       q       h     3.04       t   \n",
      "2       a    24.50    0.500       u       g       q       h     1.50       t   \n",
      "3       b    27.83    1.540       u       g       w       v     3.75       t   \n",
      "4       b    20.17    5.625       u       g       w       v     1.71       t   \n",
      "\n",
      "  Column10  Column11 Column12 Column13  Column14  Column15  Column16  \n",
      "0        t         1        f        g     202.0         0         2  \n",
      "1        t         6        f        g      43.0       560         2  \n",
      "2        f         0        f        g     280.0       824         2  \n",
      "3        t         5        t        g     100.0         3         2  \n",
      "4        f         0        f        s     120.0         0         2  \n",
      "Column1      object\n",
      "Column2     float64\n",
      "Column3     float64\n",
      "Column4      object\n",
      "Column5      object\n",
      "Column6      object\n",
      "Column7      object\n",
      "Column8     float64\n",
      "Column9      object\n",
      "Column10     object\n",
      "Column11      int64\n",
      "Column12     object\n",
      "Column13     object\n",
      "Column14    float64\n",
      "Column15      int64\n",
      "Column16      int64\n",
      "dtype: object\n"
     ]
    }
   ],
   "source": [
    "print('\\n')\n",
    "\n",
    "dataset_info = pd.DataFrame(dataset_raw)\n",
    "\n",
    "print(dataset_info.head())\n",
    "print(dataset_info.dtypes)"
   ]
  },
  {
   "cell_type": "markdown",
   "metadata": {},
   "source": [
    "## __Separando datos del Dataset__"
   ]
  },
  {
   "cell_type": "code",
   "execution_count": 13,
   "metadata": {},
   "outputs": [],
   "source": [
    "features = dataset_info[\n",
    "    [\n",
    "        \"Column1\",\n",
    "        \"Column2\",\n",
    "        \"Column3\",\n",
    "        \"Column4\",\n",
    "        \"Column5\",\n",
    "        \"Column6\",\n",
    "        \"Column7\",\n",
    "        \"Column8\",\n",
    "        \"Column9\",\n",
    "        \"Column10\",\n",
    "        \"Column12\",\n",
    "        \"Column14\",\n",
    "        \"Column15\",\n",
    "        \"Column16\"\n",
    "    ]\n",
    "]\n",
    "\n",
    "cc_apps_train, cc_apps_test = train_test_split(\n",
    "    features,\n",
    "    test_size=0.33,\n",
    "    random_state=42\n",
    ")"
   ]
  },
  {
   "cell_type": "markdown",
   "metadata": {},
   "source": [
    "## __Conteniendo valores perdidos I__"
   ]
  },
  {
   "cell_type": "code",
   "execution_count": 14,
   "metadata": {},
   "outputs": [],
   "source": [
    "cc_apps_train = cc_apps_train.replace(\"NaN\")\n",
    "cc_apps_test = cc_apps_test.replace(\"NaN\")"
   ]
  },
  {
   "cell_type": "markdown",
   "metadata": {},
   "source": [
    "## __Conteniendo valores perdidos II__"
   ]
  },
  {
   "cell_type": "code",
   "execution_count": 15,
   "metadata": {},
   "outputs": [],
   "source": [
    "cc_apps_train.fillna(cc_apps_train, inplace=True)\n",
    "cc_apps_test.fillna(cc_apps_test, inplace=True)"
   ]
  },
  {
   "cell_type": "markdown",
   "metadata": {},
   "source": [
    "## __Conteniendo valores perdidos III__"
   ]
  },
  {
   "cell_type": "code",
   "execution_count": 22,
   "metadata": {},
   "outputs": [],
   "source": [
    "for col in cc_apps_train:\n",
    "    if features.all == 'object':\n",
    "        cc_apps_train = cc_apps_train.fillna(cc_apps_train)\n",
    "        cc_apps_test = cc_apps_test.fillna(cc_apps_test)"
   ]
  },
  {
   "cell_type": "markdown",
   "metadata": {},
   "source": [
    "## __Preprocesando la data I__"
   ]
  }
 ],
 "metadata": {
  "kernelspec": {
   "display_name": "Python 3.10.5 64-bit",
   "language": "python",
   "name": "python3"
  },
  "language_info": {
   "codemirror_mode": {
    "name": "ipython",
    "version": 3
   },
   "file_extension": ".py",
   "mimetype": "text/x-python",
   "name": "python",
   "nbconvert_exporter": "python",
   "pygments_lexer": "ipython3",
   "version": "3.10.5"
  },
  "orig_nbformat": 4,
  "vscode": {
   "interpreter": {
    "hash": "26de051ba29f2982a8de78e945f0abaf191376122a1563185a90213a26c5da77"
   }
  }
 },
 "nbformat": 4,
 "nbformat_minor": 2
}
